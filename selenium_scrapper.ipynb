{
 "cells": [
  {
   "cell_type": "code",
   "execution_count": 1,
   "id": "fdad9a14",
   "metadata": {},
   "outputs": [],
   "source": [
    "import time\n",
    "\n",
    "from getpass import getpass\n",
    "\n",
    "from selenium import webdriver\n",
    "from selenium.webdriver.common.keys import Keys\n",
    "from selenium.webdriver.chrome.service import Service\n",
    "from selenium.webdriver.chrome.options import Options\n",
    "from selenium.webdriver.common.by import By\n",
    "from webdriver_manager.chrome import ChromeDriverManager\n",
    "from selenium import webdriver\n",
    "from selenium.webdriver.common.action_chains import ActionChains\n",
    "\n",
    "import os\n",
    " \n",
    "import pandas as pd\n",
    "\n",
    "import pathlib\n",
    "import os\n",
    "from os.path import join\n",
    "\n",
    "import warnings\n",
    "warnings.filterwarnings('ignore')"
   ]
  },
  {
   "cell_type": "code",
   "execution_count": 2,
   "id": "0d4813cc",
   "metadata": {},
   "outputs": [],
   "source": [
    "driver = webdriver.Chrome(service=Service(ChromeDriverManager().install()))"
   ]
  },
  {
   "cell_type": "code",
   "execution_count": 3,
   "id": "610d403d",
   "metadata": {},
   "outputs": [],
   "source": [
    "driver.get('https://www.investing.com/equities/amazon-com-inc-news')\n",
    "time.sleep(1.5)"
   ]
  },
  {
   "cell_type": "code",
   "execution_count": 4,
   "id": "11461ab9",
   "metadata": {},
   "outputs": [],
   "source": [
    "# delete the \"Accept cookies pop-up notification\":\n",
    "\n",
    "signin = driver.find_element(By.XPATH,'//*[@id=\"onetrust-accept-btn-handler\"]')\n",
    "signin.click()\n",
    "time.sleep(2)"
   ]
  },
  {
   "cell_type": "code",
   "execution_count": 7,
   "id": "09b2dafe",
   "metadata": {},
   "outputs": [],
   "source": [
    "# delete the \"Language\":\n",
    "\n",
    "signin = driver.find_element(By.XPATH,'''//*[@onclick=\"postponeEdition(14, 'No Thanks')\"]''')\n",
    "\n",
    "signin.click()\n",
    "\n",
    "time.sleep(1.5)"
   ]
  },
  {
   "cell_type": "code",
   "execution_count": 8,
   "id": "b65cd055",
   "metadata": {},
   "outputs": [],
   "source": [
    "# delete the ad:\n",
    "\n",
    "signin = driver.find_element(By.CLASS_NAME, 'dfpCloseBtn')\n",
    "\n",
    "signin.click()\n",
    "\n",
    "time.sleep(1.5)"
   ]
  },
  {
   "cell_type": "code",
   "execution_count": 9,
   "id": "55bce8e6",
   "metadata": {},
   "outputs": [],
   "source": [
    "driver.execute_script(\"document.body.style.zoom='55%'\")"
   ]
  },
  {
   "cell_type": "code",
   "execution_count": 11,
   "id": "52d66b43",
   "metadata": {},
   "outputs": [],
   "source": [
    "art_raw = driver.find_elements(By.CSS_SELECTOR,\"div[class^='mediumTitle1']\")\n",
    "\n",
    "def scrapper(numb_art = len(art_raw)): ## add pages\n",
    "\n",
    "    # For scraper reasons it's required to duplicate the numb_j as it retrieves 2 times the same position:\n",
    "    numb_art = numb_art *2\n",
    "    \n",
    "    # empty list for saving the job names , link and extra info: \n",
    "    art_list = []\n",
    "\n",
    "    # reduce the page size in order to be able to find the name of the job in the right session \n",
    "    driver.execute_script(\"document.body.style.zoom='55%'\")\n",
    "\n",
    "    # all jobs in the page\n",
    "    art_raw = driver.find_elements(By.CSS_SELECTOR,\"div[class^='mediumTitle1']\") \n",
    "\n",
    "    for art_idx in range(numb_art):\n",
    "        if art_idx % 2 == 0:\n",
    "            # get the job link\n",
    "            ref = art_raw[art_idx].get_attribute('href') \n",
    "            time.sleep(2)\n",
    "\n",
    "            ## let's click on the job post ##            \n",
    "\n",
    "            # get the job name with the .text method\n",
    "            art_name = driver.find_element(By.CSS_SELECTOR,\"a[class^='title']\").text\n",
    "            time.sleep(2.2)            \n",
    "\n",
    "            # get company name: \n",
    "\n",
    "            art_details = \"amazon\"\n",
    "\n",
    "            # populate list:\n",
    "            art_idx_list = [ref, art_name , art_details]\n",
    "            time.sleep(3)\n",
    "\n",
    "            # page.send_keys(Keys.PAGE_DOWN)\n",
    "\n",
    "            art_list.append(art_idx_list)\n",
    "\n",
    "            print(f\"Collected job : {art_name} for company: {art_details}\")\n",
    "\n",
    "    #Create dataframe:\n",
    "    art_dataframe = pd.DataFrame(art_list, \n",
    "                                 columns = [\"article_link\", \"title\", \"company name\"]\n",
    "                                ).drop_duplicates()\n",
    "\n",
    "\n",
    "    #Save dataframe in excel file to later use our job \n",
    "    art_dataframe.to_excel(pathlib.Path().joinpath('scraped_articles.xlsx'), \n",
    "                           sheet_name='investing',\n",
    "                           index= False)\n",
    "    \n",
    "    return art_dataframe"
   ]
  },
  {
   "cell_type": "code",
   "execution_count": null,
   "id": "aec49e7c",
   "metadata": {},
   "outputs": [],
   "source": []
  }
 ],
 "metadata": {
  "kernelspec": {
   "display_name": "Python 3 (ipykernel)",
   "language": "python",
   "name": "python3"
  },
  "language_info": {
   "codemirror_mode": {
    "name": "ipython",
    "version": 3
   },
   "file_extension": ".py",
   "mimetype": "text/x-python",
   "name": "python",
   "nbconvert_exporter": "python",
   "pygments_lexer": "ipython3",
   "version": "3.9.13"
  }
 },
 "nbformat": 4,
 "nbformat_minor": 5
}
